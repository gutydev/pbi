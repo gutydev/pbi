{
 "cells": [
  {
   "cell_type": "markdown",
   "id": "97563536",
   "metadata": {},
   "source": [
    "# Mapping Update Script\n",
    "\n",
    "### Etapa de importación de paquetes y creación de variables de archivos"
   ]
  },
  {
   "cell_type": "code",
   "execution_count": 1,
   "id": "d12fa9ad",
   "metadata": {},
   "outputs": [],
   "source": [
    "#Revenues proceso para crear base\n",
    "\n",
    "import pandas as pd\n",
    "import os\n",
    "import glob\n",
    "import win32com.client\n",
    "\n",
    "letracarp = \"Y:/\"\n",
    "\n",
    "sourceMap = letracarp+\"00 Operations Review/2023/0. Reporting Mensual/07. Reportes power BI 2023/Mapping/\"\n",
    "\n",
    "#Archivos Revenues\n",
    "sourceRev = letracarp+\"00 Operations Review/P&M Reporting Queries/Queries Revenues/2022/\"\n",
    "RevAct = \"Act/\"\n",
    "RevProf1 = letracarp+\"00 Operations Review/P&M Reporting Queries/Queries Revenues/2021/\"\n",
    "\n",
    "filesRev2022 = os.listdir(sourceRev+RevAct)\n",
    "filesRev2021 = os.listdir(RevProf1)\n",
    "\n",
    "#Archivos CoR-Opex\n",
    "sourceCoR_Opex = letracarp+\"00 Operations Review/P&M Reporting Queries/Queries CoR-Opex/2022/\"\n",
    "sourceCoR_OpexProf1 = letracarp+\"00 Operations Review/P&M Reporting Queries/Queries CoR-Opex/2021/\"\n",
    "\n",
    "filesCoR_Opex2022 = os.listdir(sourceCoR_Opex)\n",
    "filesCoR_Opex2021 = os.listdir(sourceCoR_OpexProf1)\n",
    "\n",
    "#Archivos MISR\n",
    "sourceMISR = letracarp+\"00 Operations Review/P&M Reporting Queries/Queries MISR/2022/\"\n",
    "MISRAct = \"Act/\"\n",
    "\n",
    "MISRProf1 = letracarp+\"00 Operations Review/P&M Reporting Queries/Queries MISR/2021/\"\n",
    "\n",
    "filesMISR2022 = os.listdir(sourceMISR+MISRAct)\n",
    "filesMISR2021 = os.listdir(MISRProf1)\n",
    "\n",
    "CuboFM = \"Cubo FM.xlsx\""
   ]
  },
  {
   "cell_type": "code",
   "execution_count": 3,
   "id": "06c5ca65",
   "metadata": {},
   "outputs": [],
   "source": [
    "#CuboFM\n",
    "\n",
    "xl = win32com.client.DispatchEx(\"Excel.Application\")\n",
    "\n",
    "\n",
    "wb = xl.workbooks.open(sourceMap+CuboFM)\n",
    "xl.DisplayAlerts = False\n",
    "xl.Visible = True\n",
    "wb.RefreshAll()\n",
    "xl.CalculateUntilAsyncQueriesDone()\n",
    "wb.Close(True)\n",
    "        \n",
    "xl.Quit()\n",
    "\n",
    "del xl   "
   ]
  },
  {
   "cell_type": "markdown",
   "id": "5177b594",
   "metadata": {},
   "source": [
    "### Etapa de importación de Bases y Mappings.\n",
    "\n",
    "#### 1.- Se importan los mappings. Se revisa si no existen nulos en las bases de mapping. Las usuales que tengan nulos se rellenan sus valores con \"NA\".\n"
   ]
  },
  {
   "cell_type": "code",
   "execution_count": 2,
   "id": "bd7d09a9",
   "metadata": {},
   "outputs": [
    {
     "name": "stdout",
     "output_type": "stream",
     "text": [
      "Account Code        0\n",
      "ESS Level 03        0\n",
      "ESS Level 04        0\n",
      "ESS Level 05        0\n",
      "Cuenta              0\n",
      "Categoria Cuenta    0\n",
      "Concepto Cuenta     0\n",
      "dtype: int64\n",
      "Department           1\n",
      "DepartmentName       1\n",
      "Linea de Producto    1\n",
      "Subarea Ops          1\n",
      "SharedServices       1\n",
      "dtype: int64\n",
      "LOBCode                        0\n",
      "LOB Level 04                   0\n",
      "Proforma Adjust Description    0\n",
      "End                            0\n",
      "Canal                          0\n",
      "dtype: int64\n",
      "Profit Center Description    0\n",
      "Entity Number                0\n",
      "ProfitCenterName             0\n",
      "EntityNombre                 0\n",
      "Pais                         0\n",
      "dtype: int64\n",
      "Profit Center Description    0\n",
      "Pais                         0\n",
      "dtype: int64\n",
      "Product Code         0\n",
      "PD Level 01          0\n",
      "PD Level 02          0\n",
      "PD Level 03          0\n",
      "PD Level 04          0\n",
      "PD Level 05          0\n",
      "Subproducto          0\n",
      "Linea de Producto    0\n",
      "SubLP4               0\n",
      "dtype: int64\n",
      "LPCode               0\n",
      "Account Code         0\n",
      "AccountName          0\n",
      "Product Code         0\n",
      "Cuenta               0\n",
      "LP Prov              0\n",
      "PD Level 02          0\n",
      "Linea de Producto    0\n",
      "Subarea Ops          0\n",
      "dtype: int64\n",
      "LPCode               0\n",
      "Account Code         0\n",
      "AccountName          0\n",
      "Department           0\n",
      "DepartmentName       0\n",
      "Cuenta               0\n",
      "LP Prov              0\n",
      "Linea de Producto    0\n",
      "Subarea Ops          0\n",
      "dtype: int64\n",
      "Currency Code    0\n",
      "Budget Rate      0\n",
      "dtype: int64\n",
      "Entity Code    0\n",
      "Entity Name    0\n",
      "dtype: int64\n"
     ]
    }
   ],
   "source": [
    "Acct = pd.read_excel(sourceMap+\"Account Mapping.xlsx\")\n",
    "\n",
    "CC = pd.read_excel(sourceMap+\"CC Mapping.xlsx\")\n",
    "\n",
    "LOB = pd.read_excel(sourceMap+\"LOB Mapping.xlsx\")\n",
    "\n",
    "PCOpex = pd.read_excel(sourceMap+\"PC Mapping Opex.xlsx\")\n",
    "\n",
    "PCRev = pd.read_excel(sourceMap+\"PC Mapping Rev.xlsx\")\n",
    "\n",
    "Prod = pd.read_excel(sourceMap+\"Prod Mapping.xlsx\")\n",
    "\n",
    "CoRDir = pd.read_excel(sourceMap+\"CoR LP Mapping Dir.xlsx\")\n",
    "\n",
    "CoRFix = pd.read_excel(sourceMap+\"CoR LP Mapping Fix.xlsx\")\n",
    "\n",
    "Curr = pd.read_excel(sourceMap+\"Currency Map.xlsx\")\n",
    "\n",
    "Ent = pd.read_excel(sourceMap+\"Entity Map.xlsx\")\n",
    "\n",
    "\n",
    "print(Acct.isnull().sum())\n",
    "print(CC.isnull().sum())\n",
    "print(LOB.isnull().sum())\n",
    "print(PCOpex.isnull().sum())\n",
    "print(PCRev.isnull().sum())\n",
    "print(Prod.isnull().sum())\n",
    "print(CoRDir.isnull().sum())\n",
    "print(CoRFix.isnull().sum())\n",
    "print(Curr.isnull().sum())\n",
    "print(Ent.isnull().sum())\n",
    "\n",
    "PCRev[\"Profit Center Description\"].fillna(value=\"NA\", inplace=True)\n",
    "Prod[\"Product Code\"].fillna(value=\"N/A\", inplace=True)\n"
   ]
  },
  {
   "cell_type": "code",
   "execution_count": 3,
   "id": "4628c474",
   "metadata": {},
   "outputs": [],
   "source": [
    "BaseRev22 = pd.DataFrame()\n",
    "BaseRev21 = pd.DataFrame()"
   ]
  },
  {
   "cell_type": "code",
   "execution_count": 4,
   "id": "0e66a9f4",
   "metadata": {},
   "outputs": [
    {
     "name": "stderr",
     "output_type": "stream",
     "text": [
      "C:\\Windows\\Temp\\ipykernel_3644\\3133595701.py:3: FutureWarning: The frame.append method is deprecated and will be removed from pandas in a future version. Use pandas.concat instead.\n",
      "  BaseRev22 = BaseRev22.append(data1, ignore_index = True)\n",
      "C:\\Windows\\Temp\\ipykernel_3644\\3133595701.py:3: FutureWarning: The frame.append method is deprecated and will be removed from pandas in a future version. Use pandas.concat instead.\n",
      "  BaseRev22 = BaseRev22.append(data1, ignore_index = True)\n",
      "C:\\Windows\\Temp\\ipykernel_3644\\3133595701.py:3: FutureWarning: The frame.append method is deprecated and will be removed from pandas in a future version. Use pandas.concat instead.\n",
      "  BaseRev22 = BaseRev22.append(data1, ignore_index = True)\n",
      "C:\\Windows\\Temp\\ipykernel_3644\\3133595701.py:3: FutureWarning: The frame.append method is deprecated and will be removed from pandas in a future version. Use pandas.concat instead.\n",
      "  BaseRev22 = BaseRev22.append(data1, ignore_index = True)\n",
      "C:\\Windows\\Temp\\ipykernel_3644\\3133595701.py:3: FutureWarning: The frame.append method is deprecated and will be removed from pandas in a future version. Use pandas.concat instead.\n",
      "  BaseRev22 = BaseRev22.append(data1, ignore_index = True)\n",
      "C:\\Windows\\Temp\\ipykernel_3644\\3133595701.py:3: FutureWarning: The frame.append method is deprecated and will be removed from pandas in a future version. Use pandas.concat instead.\n",
      "  BaseRev22 = BaseRev22.append(data1, ignore_index = True)\n",
      "C:\\Windows\\Temp\\ipykernel_3644\\3133595701.py:3: FutureWarning: The frame.append method is deprecated and will be removed from pandas in a future version. Use pandas.concat instead.\n",
      "  BaseRev22 = BaseRev22.append(data1, ignore_index = True)\n",
      "C:\\Windows\\Temp\\ipykernel_3644\\3133595701.py:3: FutureWarning: The frame.append method is deprecated and will be removed from pandas in a future version. Use pandas.concat instead.\n",
      "  BaseRev22 = BaseRev22.append(data1, ignore_index = True)\n",
      "C:\\Windows\\Temp\\ipykernel_3644\\3133595701.py:3: FutureWarning: The frame.append method is deprecated and will be removed from pandas in a future version. Use pandas.concat instead.\n",
      "  BaseRev22 = BaseRev22.append(data1, ignore_index = True)\n",
      "C:\\Windows\\Temp\\ipykernel_3644\\3133595701.py:3: FutureWarning: The frame.append method is deprecated and will be removed from pandas in a future version. Use pandas.concat instead.\n",
      "  BaseRev22 = BaseRev22.append(data1, ignore_index = True)\n",
      "C:\\Windows\\Temp\\ipykernel_3644\\3133595701.py:3: FutureWarning: The frame.append method is deprecated and will be removed from pandas in a future version. Use pandas.concat instead.\n",
      "  BaseRev22 = BaseRev22.append(data1, ignore_index = True)\n",
      "C:\\Windows\\Temp\\ipykernel_3644\\3133595701.py:3: FutureWarning: The frame.append method is deprecated and will be removed from pandas in a future version. Use pandas.concat instead.\n",
      "  BaseRev22 = BaseRev22.append(data1, ignore_index = True)\n",
      "C:\\Windows\\Temp\\ipykernel_3644\\3133595701.py:7: FutureWarning: The frame.append method is deprecated and will be removed from pandas in a future version. Use pandas.concat instead.\n",
      "  BaseRev21 = BaseRev21.append(data3, ignore_index = True)\n",
      "C:\\Windows\\Temp\\ipykernel_3644\\3133595701.py:7: FutureWarning: The frame.append method is deprecated and will be removed from pandas in a future version. Use pandas.concat instead.\n",
      "  BaseRev21 = BaseRev21.append(data3, ignore_index = True)\n",
      "C:\\Windows\\Temp\\ipykernel_3644\\3133595701.py:7: FutureWarning: The frame.append method is deprecated and will be removed from pandas in a future version. Use pandas.concat instead.\n",
      "  BaseRev21 = BaseRev21.append(data3, ignore_index = True)\n",
      "C:\\Windows\\Temp\\ipykernel_3644\\3133595701.py:7: FutureWarning: The frame.append method is deprecated and will be removed from pandas in a future version. Use pandas.concat instead.\n",
      "  BaseRev21 = BaseRev21.append(data3, ignore_index = True)\n"
     ]
    }
   ],
   "source": [
    "for f in filesRev2022:\n",
    "    data1 = pd.read_excel(sourceRev+RevAct+f, skiprows=range(0,11))\n",
    "    BaseRev22 = BaseRev22.append(data1, ignore_index = True)\n",
    "    \n",
    "for f in filesRev2021:\n",
    "    data3 = pd.read_excel(RevProf1+f, skiprows=range(0,11))\n",
    "    BaseRev21 = BaseRev21.append(data3, ignore_index = True)\n",
    "    \n",
    "BaseRev = pd.concat([BaseRev22,BaseRev21], ignore_index = True)\n",
    "\n",
    "BaseRev[\"LOBCode\"] = BaseRev[\"LOB Level 04\"] + BaseRev[\"Proforma Adjust Description\"]\n",
    "del data1,data3"
   ]
  },
  {
   "cell_type": "code",
   "execution_count": 5,
   "id": "98a93cfa",
   "metadata": {},
   "outputs": [
    {
     "name": "stderr",
     "output_type": "stream",
     "text": [
      "C:\\Windows\\Temp\\ipykernel_3644\\2950470983.py:34: SettingWithCopyWarning: \n",
      "A value is trying to be set on a copy of a slice from a DataFrame\n",
      "\n",
      "See the caveats in the documentation: https://pandas.pydata.org/pandas-docs/stable/user_guide/indexing.html#returning-a-view-versus-a-copy\n",
      "  BaseCoR[\"MgmtProduct\"].fillna(value = \"EXPEXP\", inplace=True)\n"
     ]
    }
   ],
   "source": [
    "#Creacion de la base de CoR y Opex para revisar mapeos.\n",
    "\n",
    "BaseCoR_Opex2022 = pd.DataFrame()\n",
    "BaseCoR_Opex2021 = pd.DataFrame()\n",
    "\n",
    "for f in filesCoR_Opex2022:\n",
    "    data1 = pd.read_excel(sourceCoR_Opex+f)\n",
    "    BaseCoR_Opex2022 = pd.concat([data1, BaseCoR_Opex2022], ignore_index = True)\n",
    "    \n",
    "for f in filesCoR_Opex2021:\n",
    "    data2 = pd.read_excel(sourceCoR_OpexProf1+f)\n",
    "    BaseCoR_Opex2021 = pd.concat([data2, BaseCoR_Opex2021], ignore_index = True)\n",
    "    \n",
    "    \n",
    "column_selectCoR_Opex = [\"Account Tier 3\",\"Account Tier 4\",\"GL Account Number\", \"GL Account Name\", \"Company\", \"Company Name\", \"Business Area Name\", \"Business Area\", \"Cost Center\",\n",
    "                         \"Cost Center Name\", \"Product Line\",\"Product\",\"Document Currency\"]\n",
    "\n",
    "BaseCoR_Opex = pd.concat([BaseCoR_Opex2022, BaseCoR_Opex2021], ignore_index = True)\n",
    "BaseCoR_Opex = BaseCoR_Opex[column_selectCoR_Opex]\n",
    "\n",
    "BaseCoR_Opex[\"MgmtProduct\"] = BaseCoR_Opex[\"Product Line\"] + BaseCoR_Opex[\"Product\"]\n",
    "\n",
    "BaseCoR_Opex.rename(columns={\"Account Tier 3\" : \"EssbaseG03Member\", \"Account Tier 4\" : \"EssbaseG04Member\", \"GL Account Number\" : \"Account\",\n",
    "                            \"GL Account Name\" : \"AccountName\", \"Company\" : \"Entity\", \"Company Name\" : \"EntityName\", \"Business Area Name\" : \"ProfitCenterName\",\n",
    "                            \"Cost Center\" : \"Department\", \"Cost Center Name\" : \"DepartmentName\", \"Product Line\" : \"FinProductLine\", \"Product\" : \"FinProduct\",\n",
    "                            \"Document Currency\" : \"EnteredCurrencyCode\"}, inplace=True)\n",
    "BaseCoR_Opex = BaseCoR_Opex[BaseCoR_Opex[\"Entity\"] != \"J643\"]\n",
    "\n",
    "BaseCoR_Opex[\"ProfitCenterName\"].replace(\"(en blanco)\",\"Latam : LTAM\")\n",
    "BaseCoR_Opex[\"ProfitCenterName\"].fillna(value = \"LATAM\", inplace = True)\n",
    "\n",
    "BaseCoR = BaseCoR_Opex[BaseCoR_Opex[\"EssbaseG03Member\"] == \"Network Access Costs\"]\n",
    "BaseCoR[\"MgmtProduct\"].replace(\"(en blanco)(en blanco)\",\"EXPEXP\")\n",
    "BaseCoR[\"MgmtProduct\"].fillna(value = \"EXPEXP\", inplace=True)\n",
    "\n",
    "BaseOpex = BaseCoR_Opex[BaseCoR_Opex[\"EssbaseG03Member\"] == \"Net Operating Expense\"]\n",
    "\n",
    "del data1, data2"
   ]
  },
  {
   "cell_type": "code",
   "execution_count": 6,
   "id": "24845fc1",
   "metadata": {},
   "outputs": [
    {
     "name": "stderr",
     "output_type": "stream",
     "text": [
      "C:\\Windows\\Temp\\ipykernel_3644\\582279131.py:14: FutureWarning: The frame.append method is deprecated and will be removed from pandas in a future version. Use pandas.concat instead.\n",
      "  BaseMisr21 = BaseMisr21.append(data3, ignore_index = True)\n"
     ]
    }
   ],
   "source": [
    "#Creacion de la base de MISR para revisar mapeos.\n",
    "\n",
    "BaseMisr22 = pd.DataFrame()\n",
    "BaseMisr21 = pd.DataFrame()\n",
    "\n",
    "\n",
    "                       \n",
    "for f in filesMISR2022:\n",
    "    data1 = pd.read_excel(sourceMISR+MISRAct+f, skiprows=range(0,11))\n",
    "    BaseMisr22 = pd.concat([data1,BaseMisr22], ignore_index = True)\n",
    "    \n",
    "for f in filesMISR2021:\n",
    "    data3 = pd.read_excel(MISRProf1+f, skiprows=range(0,11))\n",
    "    BaseMisr21 = BaseMisr21.append(data3, ignore_index = True)\n",
    "\n",
    "BaseMISR = pd.concat([BaseMisr22, BaseMisr21], ignore_index = True)\n",
    "\n",
    "BaseMISR[\"LOBCode\"] = BaseMISR[\"LOB Level 04\"] + BaseMISR[\"Proforma Adjust Description\"]\n",
    "del data1,data3\n"
   ]
  },
  {
   "cell_type": "code",
   "execution_count": 7,
   "id": "e9dd1f0c",
   "metadata": {},
   "outputs": [],
   "source": [
    "CuboFMAcct = pd.read_excel(sourceMap+CuboFM, sheet_name = \"Account\", skiprows = range(0,16))\n",
    "CuboFMAcct = CuboFMAcct[[\"Account Code\", \"AC Level 03\", \"AC Level 04\", \"AC Level 05\"]]\n",
    "CuboFMAcct.rename(columns = {\"AC Level 03\":\"ESS Level 03\", \"AC Level 04\":\"ESS Level 04\",\"AC Level 05\": \"ESS Level 05\"}, inplace = True)\n",
    "\n",
    "CuboFMProd = pd.read_excel(sourceMap+CuboFM, sheet_name = \"Prods\", skiprows = range(0,16))\n",
    "CuboFMProd = CuboFMProd[[\"Product Code\",\"PD Level 01\",\"PD Level 02\",\"PD Level 03\",\"PD Level 04\",\"PD Level 05\"]]\n",
    "\n",
    "\n",
    "\n",
    "CuboFMCC = pd.read_excel(sourceMap+CuboFM, sheet_name = \"CC\", skiprows = range(0,16))\n",
    "CuboFMCC = CuboFMCC[[\"Cost Center Code\", \"CS Level 03\"]]\n",
    "CuboFMCC.rename(columns = {\"Cost Center Code\":\"Department\", \"CS Level 03\":\"SharedServices\"}, inplace = True)\n",
    "\n",
    "CuboFMEnt = pd.read_excel(sourceMap+CuboFM, sheet_name = \"Entity\", skiprows = range(0,16))\n",
    "CuboFMEnt = CuboFMEnt[[\"Entity Code\",\"Entity Name\"]]"
   ]
  },
  {
   "cell_type": "code",
   "execution_count": 9,
   "id": "fa958035",
   "metadata": {},
   "outputs": [
    {
     "name": "stderr",
     "output_type": "stream",
     "text": [
      "C:\\Windows\\Temp\\ipykernel_3644\\3533819569.py:6: SettingWithCopyWarning: \n",
      "A value is trying to be set on a copy of a slice from a DataFrame\n",
      "\n",
      "See the caveats in the documentation: https://pandas.pydata.org/pandas-docs/stable/user_guide/indexing.html#returning-a-view-versus-a-copy\n",
      "  BaseCoRAcc.rename(columns={\"Account\" : \"Account Code\"}, inplace=True)\n",
      "C:\\Windows\\Temp\\ipykernel_3644\\3533819569.py:7: SettingWithCopyWarning: \n",
      "A value is trying to be set on a copy of a slice from a DataFrame\n",
      "\n",
      "See the caveats in the documentation: https://pandas.pydata.org/pandas-docs/stable/user_guide/indexing.html#returning-a-view-versus-a-copy\n",
      "  BaseOpexAcc.rename(columns={\"Account\" : \"Account Code\"}, inplace=True)\n"
     ]
    },
    {
     "name": "stdout",
     "output_type": "stream",
     "text": [
      "Account Mapping está completo\n"
     ]
    }
   ],
   "source": [
    "BaseRevAcc = BaseRev[[\"Account Code\"]]\n",
    "BaseCoRAcc = BaseCoR[[\"Account\"]]\n",
    "BaseOpexAcc = BaseOpex[[\"Account\"]]\n",
    "BaseMISRAcc = BaseMISR[[\"Account Code\"]]\n",
    "\n",
    "BaseCoRAcc.rename(columns={\"Account\" : \"Account Code\"}, inplace=True)\n",
    "BaseOpexAcc.rename(columns={\"Account\" : \"Account Code\"}, inplace=True)\n",
    "\n",
    "BaseAcc = pd.concat([BaseRevAcc, BaseMISRAcc, BaseCoRAcc, BaseOpexAcc], ignore_index = True)\n",
    "BaseAcc.drop_duplicates(inplace=True)\n",
    "BaseAccMiss = BaseAcc[\"Account Code\"].isin(set(BaseAcc[\"Account Code\"]).difference(Acct[\"Account Code\"]))\n",
    "\n",
    "if BaseAcc[BaseAccMiss].empty:\n",
    "    print(\"Account Mapping está completo\")\n",
    "    \n",
    "else:\n",
    "    print(\"Account Mapping está incompleto. Anexando faltantes a archivo de Account Mapping\")\n",
    "    FaltanteAcc = pd.DataFrame(BaseAcc[BaseAccMiss])\n",
    "    FaltanteAcc = FaltanteAcc.merge(CuboFMAcct, how = \"left\", on=\"Account Code\")\n",
    "    FaltanteAcc = pd.concat([Acct, FaltanteAcc], ignore_index=True)\n",
    "    FaltanteAcc.to_excel(sourceMap+\"Account Mapping.xlsx\", index = False)"
   ]
  },
  {
   "cell_type": "code",
   "execution_count": 10,
   "id": "fa67dcd3",
   "metadata": {},
   "outputs": [
    {
     "name": "stdout",
     "output_type": "stream",
     "text": [
      "LOB Mapping está completo\n"
     ]
    }
   ],
   "source": [
    "BaseRevLOB = BaseRev[[\"LOBCode\", \"LOB Level 04\", \"Proforma Adjust Description\"]]\n",
    "BaseMISRLOB = BaseMISR[[\"LOBCode\", \"LOB Level 04\", \"Proforma Adjust Description\"]]\n",
    "\n",
    "BaseLOB = pd.concat([BaseRevLOB, BaseMISRLOB], ignore_index = True)\n",
    "BaseLOB.drop_duplicates(inplace=True)\n",
    "BaseLOBMiss = BaseLOB[\"LOBCode\"].isin(set(BaseLOB[\"LOBCode\"]).difference(LOB[\"LOBCode\"]))\n",
    "\n",
    "if BaseLOB[BaseLOBMiss].empty:\n",
    "    print(\"LOB Mapping está completo\")\n",
    "    \n",
    "else:\n",
    "    print(\"LOB Mapping está incompleto. Anexando faltantes a archivo de LOB Mapping\")\n",
    "    FaltanteLOB = pd.DataFrame(BaseLOB[BaseLOBMiss])\n",
    "    FaltanteLOB = pd.concat([LOB, FaltanteLOB], ignore_index=True)\n",
    "    FaltanteLOB.to_excel(sourceMap+\"LOB Mapping.xlsx\", index = False)"
   ]
  },
  {
   "cell_type": "code",
   "execution_count": 11,
   "id": "7b415a17",
   "metadata": {},
   "outputs": [
    {
     "name": "stderr",
     "output_type": "stream",
     "text": [
      "C:\\Windows\\Temp\\ipykernel_3644\\4011643753.py:5: SettingWithCopyWarning: \n",
      "A value is trying to be set on a copy of a slice from a DataFrame\n",
      "\n",
      "See the caveats in the documentation: https://pandas.pydata.org/pandas-docs/stable/user_guide/indexing.html#returning-a-view-versus-a-copy\n",
      "  BaseCoRProd.rename(columns={\"MgmtProduct\" : \"Product Code\"}, inplace=True)\n"
     ]
    },
    {
     "name": "stdout",
     "output_type": "stream",
     "text": [
      "Product Mapping está incompleto. Anexando faltantes a archivo de Product Mapping\n"
     ]
    }
   ],
   "source": [
    "BaseRevProd = BaseRev[[\"Product Code\"]]\n",
    "BaseCoRProd = BaseCoR[[\"MgmtProduct\"]]\n",
    "BaseMISRProd = BaseMISR[[\"Product Code\"]]\n",
    "\n",
    "BaseCoRProd.rename(columns={\"MgmtProduct\" : \"Product Code\"}, inplace=True)\n",
    "\n",
    "\n",
    "BaseProd = pd.concat([BaseRevProd, BaseMISRProd, BaseCoRProd], ignore_index = True)\n",
    "BaseProd.drop_duplicates(inplace=True)\n",
    "BaseProdMiss = BaseProd[\"Product Code\"].isin(set(BaseProd[\"Product Code\"]).difference(Prod[\"Product Code\"]))\n",
    "\n",
    "if BaseProd[BaseProdMiss].empty:\n",
    "    print(\"Product Mapping está completo\")\n",
    "    \n",
    "else:\n",
    "    print(\"Product Mapping está incompleto. Anexando faltantes a archivo de Product Mapping\")\n",
    "    FaltanteProd = pd.DataFrame(BaseProd[BaseProdMiss])\n",
    "    FaltanteProd = FaltanteProd.merge(CuboFMProd, how=\"left\", on = \"Product Code\")\n",
    "    FaltanteProd = pd.concat([Prod, FaltanteProd], ignore_index=True)\n",
    "    FaltanteProd.to_excel(sourceMap+\"Prod Mapping.xlsx\", index = False)"
   ]
  },
  {
   "cell_type": "code",
   "execution_count": 12,
   "id": "92619219",
   "metadata": {},
   "outputs": [
    {
     "name": "stderr",
     "output_type": "stream",
     "text": [
      "C:\\Windows\\Temp\\ipykernel_3644\\2033537413.py:5: SettingWithCopyWarning: \n",
      "A value is trying to be set on a copy of a slice from a DataFrame\n",
      "\n",
      "See the caveats in the documentation: https://pandas.pydata.org/pandas-docs/stable/user_guide/indexing.html#returning-a-view-versus-a-copy\n",
      "  BaseCoRPC.rename(columns={\"ProfitCenterName\" : \"Profit Center Description\"}, inplace=True)\n",
      "C:\\Windows\\Temp\\ipykernel_3644\\2033537413.py:6: SettingWithCopyWarning: \n",
      "A value is trying to be set on a copy of a slice from a DataFrame\n",
      "\n",
      "See the caveats in the documentation: https://pandas.pydata.org/pandas-docs/stable/user_guide/indexing.html#returning-a-view-versus-a-copy\n",
      "  BaseRevPC.rename(columns={\"PC Level 03\" : \"Profit Center Description\"}, inplace=True)\n",
      "C:\\Windows\\Temp\\ipykernel_3644\\2033537413.py:7: SettingWithCopyWarning: \n",
      "A value is trying to be set on a copy of a slice from a DataFrame\n",
      "\n",
      "See the caveats in the documentation: https://pandas.pydata.org/pandas-docs/stable/user_guide/indexing.html#returning-a-view-versus-a-copy\n",
      "  BaseMISRPC.rename(columns={\"PC Level 03\" : \"Profit Center Description\"}, inplace=True)\n"
     ]
    },
    {
     "name": "stdout",
     "output_type": "stream",
     "text": [
      "PC Rev Mapping está completo\n"
     ]
    }
   ],
   "source": [
    "BaseRevPC = BaseRev[[\"PC Level 03\"]]\n",
    "BaseCoRPC = BaseCoR[[\"ProfitCenterName\"]]\n",
    "BaseMISRPC = BaseMISR[[\"PC Level 03\"]]\n",
    "\n",
    "BaseCoRPC.rename(columns={\"ProfitCenterName\" : \"Profit Center Description\"}, inplace=True)\n",
    "BaseRevPC.rename(columns={\"PC Level 03\" : \"Profit Center Description\"}, inplace=True)\n",
    "BaseMISRPC.rename(columns={\"PC Level 03\" : \"Profit Center Description\"}, inplace=True)\n",
    "\n",
    "BasePC = pd.concat([BaseRevPC, BaseMISRPC, BaseCoRPC], ignore_index = True)\n",
    "BasePC.drop_duplicates(inplace=True)\n",
    "BasePCMiss = BasePC[\"Profit Center Description\"].isin(set(BasePC[\"Profit Center Description\"]).difference(PCRev[\"Profit Center Description\"]))\n",
    "\n",
    "if BasePC[BasePCMiss].empty:\n",
    "    print(\"PC Rev Mapping está completo\")\n",
    "    \n",
    "else:\n",
    "    print(\"PC Rev Mapping está incompleto. Anexando faltantes a archivo de PC Rev Mapping\")\n",
    "    FaltantePC = pd.DataFrame(BasePC[BasePCMiss])\n",
    "    FaltantePC = pd.concat([PCRev, FaltantePC], ignore_index=True)\n",
    "    FaltantePC.to_excel(sourceMap+\"PC Mapping Rev.xlsx\", index = False)\n"
   ]
  },
  {
   "cell_type": "code",
   "execution_count": 13,
   "id": "10a8ab6a",
   "metadata": {},
   "outputs": [
    {
     "name": "stderr",
     "output_type": "stream",
     "text": [
      "C:\\Windows\\Temp\\ipykernel_3644\\1739694922.py:2: SettingWithCopyWarning: \n",
      "A value is trying to be set on a copy of a slice from a DataFrame.\n",
      "Try using .loc[row_indexer,col_indexer] = value instead\n",
      "\n",
      "See the caveats in the documentation: https://pandas.pydata.org/pandas-docs/stable/user_guide/indexing.html#returning-a-view-versus-a-copy\n",
      "  BaseOpexPC[\"Profit Center Description\"] = BaseOpexPC[\"Entity\"] + BaseOpexPC[\"ProfitCenterName\"]\n"
     ]
    },
    {
     "name": "stdout",
     "output_type": "stream",
     "text": [
      "PC Opex Mapping está completo\n"
     ]
    }
   ],
   "source": [
    "BaseOpexPC = BaseOpex[[\"Entity\",\"ProfitCenterName\",\"EntityName\"]]\n",
    "BaseOpexPC[\"Profit Center Description\"] = BaseOpexPC[\"Entity\"] + BaseOpexPC[\"ProfitCenterName\"]\n",
    "\n",
    "BaseOpexPC = BaseOpexPC[[\"Profit Center Description\",\"Entity\",\"ProfitCenterName\",\"EntityName\"]]\n",
    "BaseOpexPC.rename(columns = {\"Entity\" : \"Entity Number\", \"EntityName\" : \"EntityNombre\"}, inplace = True)\n",
    "\n",
    "BaseOpexPC.drop_duplicates(inplace=True)\n",
    "BaseOpexPCMiss = BaseOpexPC[\"Profit Center Description\"].isin(set(BaseOpexPC[\"Profit Center Description\"]).difference(PCOpex[\"Profit Center Description\"]))\n",
    "\n",
    "if BaseOpexPC[BaseOpexPCMiss].empty:\n",
    "    print(\"PC Opex Mapping está completo\")\n",
    "    \n",
    "else:\n",
    "    print(\"PC Opex Mapping está incompleto. Anexando faltantes a archivo de PC Opex Mapping\")\n",
    "    FaltanteOpexPC = pd.DataFrame(BaseOpexPC[BaseOpexPCMiss])\n",
    "    FaltanteOpexPC = pd.concat([PCOpex, FaltanteOpexPC], ignore_index=True)\n",
    "    FaltanteOpexPC.to_excel(sourceMap+\"PC Mapping Opex.xlsx\", index = False)\n"
   ]
  },
  {
   "cell_type": "code",
   "execution_count": 14,
   "id": "3d498dbf",
   "metadata": {},
   "outputs": [
    {
     "name": "stdout",
     "output_type": "stream",
     "text": [
      "CC Mapping está completo\n"
     ]
    }
   ],
   "source": [
    "BaseCoRCCprevio = BaseCoR[BaseCoR[\"EssbaseG04Member\"] != \"Direct Netex\"]\n",
    "BaseCoRCC = BaseCoRCCprevio[[\"Department\",\"DepartmentName\"]]\n",
    "BaseOpexCC = BaseOpex[[\"Department\",\"DepartmentName\"]]\n",
    "\n",
    "\n",
    "BaseCC = pd.concat([BaseCoRCC, BaseOpexCC], ignore_index = True)\n",
    "BaseCC.drop_duplicates(inplace=True)\n",
    "BaseCCMiss = BaseCC[\"Department\"].isin(set(BaseCC[\"Department\"]).difference(CC[\"Department\"]))\n",
    "\n",
    "\n",
    "if BaseCC[BaseCCMiss].empty:\n",
    "    print(\"CC Mapping está completo\")\n",
    "    \n",
    "else:\n",
    "    print(\"CC Mapping está incompleto. Anexando faltantes a archivo de CC Mapping\")\n",
    "    FaltanteCC = pd.DataFrame(BaseCC[BaseCCMiss])\n",
    "    FaltanteCC= FaltanteCC.merge(CuboFMCC, how=\"left\", on = \"Department\")\n",
    "    FaltanteCC = pd.concat([CC, FaltanteCC], ignore_index=True)\n",
    "    FaltanteCC.to_excel(sourceMap+\"CC Mapping.xlsx\", index = False)"
   ]
  },
  {
   "cell_type": "code",
   "execution_count": 15,
   "id": "03cb4216",
   "metadata": {},
   "outputs": [
    {
     "name": "stderr",
     "output_type": "stream",
     "text": [
      "C:\\Windows\\Temp\\ipykernel_3644\\743104697.py:6: SettingWithCopyWarning: \n",
      "A value is trying to be set on a copy of a slice from a DataFrame\n",
      "\n",
      "See the caveats in the documentation: https://pandas.pydata.org/pandas-docs/stable/user_guide/indexing.html#returning-a-view-versus-a-copy\n",
      "  BaseCoRCurr = BaseCoRCurr.rename(columns = {\"EnteredCurrencyCode\": \"Currency Code\"}, inplace = True)\n",
      "C:\\Windows\\Temp\\ipykernel_3644\\743104697.py:7: SettingWithCopyWarning: \n",
      "A value is trying to be set on a copy of a slice from a DataFrame\n",
      "\n",
      "See the caveats in the documentation: https://pandas.pydata.org/pandas-docs/stable/user_guide/indexing.html#returning-a-view-versus-a-copy\n",
      "  BaseOpexCurr = BaseOpexCurr.rename(columns = {\"EnteredCurrencyCode\": \"Currency Code\"}, inplace = True)\n"
     ]
    },
    {
     "name": "stdout",
     "output_type": "stream",
     "text": [
      "Currency Mapping está completo\n"
     ]
    }
   ],
   "source": [
    "BaseRevCurr = BaseRev[[\"Currency Code\"]]\n",
    "BaseCoRCurr = BaseCoR[[\"EnteredCurrencyCode\"]]\n",
    "BaseOpexCurr = BaseOpex[[\"EnteredCurrencyCode\"]]\n",
    "BaseMISRCurr = BaseMISR[[\"Currency Code\"]]\n",
    "\n",
    "BaseCoRCurr = BaseCoRCurr.rename(columns = {\"EnteredCurrencyCode\": \"Currency Code\"}, inplace = True)\n",
    "BaseOpexCurr = BaseOpexCurr.rename(columns = {\"EnteredCurrencyCode\": \"Currency Code\"}, inplace = True)\n",
    "\n",
    "\n",
    "BaseCurr = pd.concat([BaseRevCurr, BaseCoRCurr, BaseOpexCurr, BaseMISRCurr], ignore_index = True)\n",
    "BaseCurr.drop_duplicates(inplace=True)\n",
    "BaseCurrMiss = BaseCurr[\"Currency Code\"].isin(set(BaseCurr[\"Currency Code\"]).difference(Curr[\"Currency Code\"]))\n",
    "\n",
    "\n",
    "if BaseCurr[BaseCurrMiss].empty:\n",
    "    print(\"Currency Mapping está completo\")\n",
    "    \n",
    "else:\n",
    "    print(\"Currency Mapping está incompleto. Anexando faltantes a archivo de CC Mapping\")\n",
    "    FaltanteCurr = pd.DataFrame(BaseCurr[BaseCurrMiss])\n",
    "    FaltanteCurr = pd.concat([Curr, FaltanteCurr], ignore_index=True)\n",
    "    FaltanteCurr.to_excel(sourceMap+\"Currency Map.xlsx\", index = False)"
   ]
  },
  {
   "cell_type": "code",
   "execution_count": 16,
   "id": "686e3370",
   "metadata": {},
   "outputs": [
    {
     "name": "stderr",
     "output_type": "stream",
     "text": [
      "C:\\Windows\\Temp\\ipykernel_3644\\4119000574.py:8: SettingWithCopyWarning: \n",
      "A value is trying to be set on a copy of a slice from a DataFrame\n",
      "\n",
      "See the caveats in the documentation: https://pandas.pydata.org/pandas-docs/stable/user_guide/indexing.html#returning-a-view-versus-a-copy\n",
      "  BaseCoRLP.rename(columns = {\"Account\" : \"Account Code\", \"MgmtProduct\":\"Product Code\"}, inplace = True)\n"
     ]
    }
   ],
   "source": [
    "Acct = pd.read_excel(sourceMap+\"Account Mapping.xlsx\")\n",
    "Prod = pd.read_excel(sourceMap+\"Prod Mapping.xlsx\")\n",
    "CC = pd.read_excel(sourceMap+\"CC Mapping.xlsx\")\n",
    "Prod[\"Product Code\"].fillna(value=\"N/A\", inplace=True)\n",
    "\n",
    "\n",
    "BaseCoRLP = BaseCoR[[\"EssbaseG04Member\",\"Account\",\"AccountName\", \"Department\", \"MgmtProduct\"]]\n",
    "BaseCoRLP.rename(columns = {\"Account\" : \"Account Code\", \"MgmtProduct\":\"Product Code\"}, inplace = True)\n",
    "BaseCoRLP = BaseCoRLP.merge(Acct, how=\"left\", left_on=\"Account Code\", right_on=\"Account Code\", suffixes = [\"_x\",\"_y\"])\n",
    "#BaseCoRLP = BaseCoRLP.merge(Prod, how=\"left\", left_on=\"Product Code\", right_on=\"Product Code\", suffixes = [\"_x\",\"_y\"])\n",
    "#BaseCoRLP = BaseCoRLP.merge(CC, how=\"left\", left_on=\"Department\", right_on=\"Department\", suffixes = [\"_x\",\"_y\"])\n",
    "\n",
    "BaseCoRLPDir = BaseCoRLP[BaseCoRLP[\"EssbaseG04Member\"] == \"Direct Netex\"]\n",
    "BaseCoRLPFix = BaseCoRLP[BaseCoRLP[\"EssbaseG04Member\"] != \"Direct Netex\"]\n",
    "\n",
    "BaseCoRLPDir = BaseCoRLPDir.merge(Prod, how=\"left\", left_on=\"Product Code\", right_on=\"Product Code\", suffixes = [\"_x\",\"_y\"])\n",
    "BaseCoRLPDir[\"LPCode\"] = BaseCoRLPDir[\"Account Code\"] + BaseCoRLPDir[\"Product Code\"]\n",
    "BaseCoRLPDir = BaseCoRLPDir[[\"LPCode\", \"Account Code\", \"AccountName\", \"Product Code\", \"Cuenta\", \"Linea de Producto\", \"PD Level 02\"]]\n",
    "BaseCoRLPDir.rename(columns = {\"Linea de Producto\":\"LP Prov\"}, inplace=True)\n",
    "\n",
    "BaseCoRLPFix = BaseCoRLPFix.merge(CC, how=\"left\", left_on=\"Department\", right_on=\"Department\", suffixes = [\"_x\",\"_y\"])\n",
    "BaseCoRLPFix[\"LPCode\"] = BaseCoRLPFix[\"Account Code\"] + BaseCoRLPFix[\"Department\"]\n",
    "BaseCoRLPFix = BaseCoRLPFix[[\"LPCode\", \"Account Code\", \"AccountName\", \"Department\",\"DepartmentName\", \"Cuenta\", \"Linea de Producto\"]]\n",
    "BaseCoRLPFix.rename(columns = {\"Linea de Producto\":\"LP Prov\"}, inplace=True)"
   ]
  },
  {
   "cell_type": "code",
   "execution_count": 17,
   "id": "50927663",
   "metadata": {},
   "outputs": [
    {
     "name": "stdout",
     "output_type": "stream",
     "text": [
      "CoR Dir LP Mapping está incompleto. Anexando faltantes a archivo de CoR Dir LP Mapping\n"
     ]
    }
   ],
   "source": [
    "BaseCoRLPDir.drop_duplicates(inplace=True)\n",
    "BaseCoRLPDirMiss = BaseCoRLPDir[\"LPCode\"].isin(set(BaseCoRLPDir[\"LPCode\"]).difference(CoRDir[\"LPCode\"]))\n",
    "\n",
    "if BaseCoRLPDir[BaseCoRLPDirMiss].empty:\n",
    "    print(\"CoR DiR LP Mapping está completo\")\n",
    "    \n",
    "else:\n",
    "    print(\"CoR Dir LP Mapping está incompleto. Anexando faltantes a archivo de CoR Dir LP Mapping\")\n",
    "    FaltanteCoRDir = pd.DataFrame(BaseCoRLPDir[BaseCoRLPDirMiss])\n",
    "    FaltanteCoRDir = pd.concat([CoRDir, FaltanteCoRDir], ignore_index=True)\n",
    "    FaltanteCoRDir.to_excel(sourceMap+\"CoR LP Mapping Dir.xlsx\", index = False)"
   ]
  },
  {
   "cell_type": "code",
   "execution_count": 18,
   "id": "792e9be3",
   "metadata": {},
   "outputs": [
    {
     "name": "stdout",
     "output_type": "stream",
     "text": [
      "Entity Mapping está completo\n"
     ]
    },
    {
     "name": "stderr",
     "output_type": "stream",
     "text": [
      "C:\\Windows\\Temp\\ipykernel_3644\\4263960617.py:6: SettingWithCopyWarning: \n",
      "A value is trying to be set on a copy of a slice from a DataFrame\n",
      "\n",
      "See the caveats in the documentation: https://pandas.pydata.org/pandas-docs/stable/user_guide/indexing.html#returning-a-view-versus-a-copy\n",
      "  BaseCoREnt = BaseCoREnt.rename(columns = {\"Entity\": \"Entity Code\"}, inplace = True)\n",
      "C:\\Windows\\Temp\\ipykernel_3644\\4263960617.py:7: SettingWithCopyWarning: \n",
      "A value is trying to be set on a copy of a slice from a DataFrame\n",
      "\n",
      "See the caveats in the documentation: https://pandas.pydata.org/pandas-docs/stable/user_guide/indexing.html#returning-a-view-versus-a-copy\n",
      "  BaseOpexEnt = BaseOpexEnt.rename(columns = {\"Entity\": \"Entity Code\"}, inplace = True)\n"
     ]
    }
   ],
   "source": [
    "BaseRevEnt = BaseRev[[\"Entity Code\"]]\n",
    "BaseCoREnt = BaseCoR[[\"Entity\"]]\n",
    "BaseOpexEnt = BaseOpex[[\"Entity\"]]\n",
    "BaseMISREnt = BaseMISR[[\"Entity Code\"]]\n",
    "\n",
    "BaseCoREnt = BaseCoREnt.rename(columns = {\"Entity\": \"Entity Code\"}, inplace = True)\n",
    "BaseOpexEnt = BaseOpexEnt.rename(columns = {\"Entity\": \"Entity Code\"}, inplace = True)\n",
    "\n",
    "\n",
    "BaseEnt = pd.concat([BaseRevEnt, BaseCoREnt, BaseOpexEnt, BaseMISREnt], ignore_index = True)\n",
    "BaseEnt.drop_duplicates(inplace=True)\n",
    "BaseEntMiss = BaseEnt[\"Entity Code\"].isin(set(BaseEnt[\"Entity Code\"]).difference(Ent[\"Entity Code\"]))\n",
    "\n",
    "\n",
    "if BaseEnt[BaseEntMiss].empty:\n",
    "    print(\"Entity Mapping está completo\")\n",
    "    \n",
    "else:\n",
    "    print(\"Entity Mapping está incompleto. Anexando faltantes a archivo de Entity\")\n",
    "    FaltanteEnt = pd.DataFrame(BaseEnt[BaseEntMiss])\n",
    "    FaltanteEnt= FaltanteEnt.merge(CuboFMEnt, how=\"left\", on = \"Entity Code\")\n",
    "    FaltanteEnt = pd.concat([Ent, FaltanteEnt], ignore_index=True)\n",
    "    FaltanteEnt.to_excel(sourceMap+\"Entity Map.xlsx\", index = False)"
   ]
  },
  {
   "cell_type": "code",
   "execution_count": 19,
   "id": "2da258ed",
   "metadata": {},
   "outputs": [
    {
     "name": "stdout",
     "output_type": "stream",
     "text": [
      "CoR Fix LP Mapping está incompleto. Anexando faltantes a archivo de CoR Fix LP Mapping\n"
     ]
    }
   ],
   "source": [
    "BaseCoRLPFix.drop_duplicates(inplace=True)\n",
    "BaseCoRLPFixMiss = BaseCoRLPFix[\"LPCode\"].isin(set(BaseCoRLPFix[\"LPCode\"]).difference(CoRFix[\"LPCode\"]))\n",
    "\n",
    "if BaseCoRLPFix[BaseCoRLPFixMiss].empty:\n",
    "    print(\"CoR Fix LP Mapping está completo\")\n",
    "    \n",
    "else:\n",
    "    print(\"CoR Fix LP Mapping está incompleto. Anexando faltantes a archivo de CoR Fix LP Mapping\")\n",
    "    FaltanteCoRFix = pd.DataFrame(BaseCoRLPFix[BaseCoRLPFixMiss])\n",
    "    FaltanteCoRFix = pd.concat([CoRFix, FaltanteCoRFix], ignore_index=True)\n",
    "    FaltanteCoRFix.to_excel(sourceMap+\"CoR LP Mapping Fix.xlsx\", index = False)\n"
   ]
  }
 ],
 "metadata": {
  "kernelspec": {
   "display_name": "Python 3 (ipykernel)",
   "language": "python",
   "name": "python3"
  },
  "language_info": {
   "codemirror_mode": {
    "name": "ipython",
    "version": 3
   },
   "file_extension": ".py",
   "mimetype": "text/x-python",
   "name": "python",
   "nbconvert_exporter": "python",
   "pygments_lexer": "ipython3",
   "version": "3.11.5"
  }
 },
 "nbformat": 4,
 "nbformat_minor": 5
}
